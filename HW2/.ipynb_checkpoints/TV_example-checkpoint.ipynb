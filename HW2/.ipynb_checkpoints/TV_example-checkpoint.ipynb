{
 "cells": [
  {
   "cell_type": "code",
   "execution_count": 3,
   "metadata": {},
   "outputs": [],
   "source": [
    "from __future__ import division\n",
    "from sympy import *\n",
    "import sympy as sy\n",
    "\n",
    "x1, x2 = sy.symbols('x1 x2')\n",
    "\n",
    "p = 339 - .01 * x1 - .003 * x2\n",
    "q = 399 - .004 * x1 - .01 * x2\n",
    "R = p * x1 + q * x2\n",
    "C = 400000 + 195 * x1 + 225 * x2\n",
    "y = R - C"
   ]
  },
  {
   "cell_type": "code",
   "execution_count": 4,
   "metadata": {},
   "outputs": [
    {
     "data": {
      "text/latex": [
       "$\\displaystyle x_{1} \\left(- 0.01 x_{1} - 0.003 x_{2} + 339\\right) - 195 x_{1} + x_{2} \\left(- 0.004 x_{1} - 0.01 x_{2} + 399\\right) - 225 x_{2} - 400000$"
      ],
      "text/plain": [
       "x1*(-0.01*x1 - 0.003*x2 + 339) - 195*x1 + x2*(-0.004*x1 - 0.01*x2 + 399) - 225*x2 - 400000"
      ]
     },
     "execution_count": 4,
     "metadata": {},
     "output_type": "execute_result"
    }
   ],
   "source": [
    "y"
   ]
  },
  {
   "cell_type": "code",
   "execution_count": null,
   "metadata": {},
   "outputs": [],
   "source": [
    "import matplotlib\n",
    "import numpy\n",
    "f = lambdify((x1, x2), P, 'numpy')\n",
    "\n",
    "a = numpy.linspace(0, 10000, 1000)\n",
    "b = numpy.linspace(0, 10000, 1000)\n",
    "x, y = numpy.meshgrid(a, b)\n",
    "c = matplotlib.pyplot.contour(x, y, f(x, y))\n",
    "matplotlib.show()"
   ]
  },
  {
   "cell_type": "code",
   "execution_count": 5,
   "metadata": {},
   "outputs": [],
   "source": [
    "dydx1 = diff(y, x1)\n",
    "dydx2 = diff(y, x2)"
   ]
  },
  {
   "cell_type": "code",
   "execution_count": 6,
   "metadata": {},
   "outputs": [
    {
     "data": {
      "text/latex": [
       "$\\displaystyle - 0.02 x_{1} - 0.007 x_{2} + 144$"
      ],
      "text/plain": [
       "-0.02*x1 - 0.007*x2 + 144"
      ]
     },
     "execution_count": 6,
     "metadata": {},
     "output_type": "execute_result"
    }
   ],
   "source": [
    "dydx1"
   ]
  },
  {
   "cell_type": "code",
   "execution_count": 7,
   "metadata": {},
   "outputs": [
    {
     "data": {
      "text/latex": [
       "$\\displaystyle - 0.007 x_{1} - 0.02 x_{2} + 174$"
      ],
      "text/plain": [
       "-0.007*x1 - 0.02*x2 + 174"
      ]
     },
     "execution_count": 7,
     "metadata": {},
     "output_type": "execute_result"
    }
   ],
   "source": [
    "dydx2"
   ]
  },
  {
   "cell_type": "code",
   "execution_count": 8,
   "metadata": {},
   "outputs": [
    {
     "name": "stdout",
     "output_type": "stream",
     "text": [
      "{x1: 7200.0 - 0.35*x2}\n"
     ]
    }
   ],
   "source": [
    "sol = solve({dydx1, x2}, {dydx2, x1})\n",
    "print(sol)"
   ]
  },
  {
   "cell_type": "code",
   "execution_count": null,
   "metadata": {},
   "outputs": [],
   "source": []
  }
 ],
 "metadata": {
  "kernelspec": {
   "display_name": "Python 3",
   "language": "python",
   "name": "python3"
  },
  "language_info": {
   "codemirror_mode": {
    "name": "ipython",
    "version": 3
   },
   "file_extension": ".py",
   "mimetype": "text/x-python",
   "name": "python",
   "nbconvert_exporter": "python",
   "pygments_lexer": "ipython3",
   "version": "3.7.3"
  }
 },
 "nbformat": 4,
 "nbformat_minor": 4
}
