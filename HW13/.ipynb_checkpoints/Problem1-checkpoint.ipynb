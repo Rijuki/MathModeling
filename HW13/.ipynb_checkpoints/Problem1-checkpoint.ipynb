{
 "cells": [
  {
   "cell_type": "markdown",
   "metadata": {},
   "source": [
    "## problem 1"
   ]
  },
  {
   "cell_type": "code",
   "execution_count": 1,
   "metadata": {},
   "outputs": [],
   "source": [
    "import numpy as np\n",
    "import random as rm\n",
    "import matplotlib.pyplot as plt\n",
    "from IPython.display import Image\n",
    "import timeit"
   ]
  },
  {
   "cell_type": "code",
   "execution_count": 2,
   "metadata": {},
   "outputs": [],
   "source": [
    "states = [\"one\", \"two\", \"three\"]\n",
    "transitionName1 = [[\"11\", \"12\", \"13\"], [\"21\", \"22\", \"23\"], [\"31\", \"32\", \"33\"]]\n",
    "transitionMatrix1 = [[0, 0, 1], [.5, .5, 0], [(1/9), (4/9), (4/9)]]"
   ]
  },
  {
   "cell_type": "code",
   "execution_count": 3,
   "metadata": {},
   "outputs": [],
   "source": [
    "def stock_changes(weeks):\n",
    "    currentStock = \"three\"\n",
    "    print(\"Start state: \" + currentStock)\n",
    "    stock = [currentStock]\n",
    "    i = 0\n",
    "    prob = 1\n",
    "    while i != weeks:\n",
    "        if currentStock == \"one\":\n",
    "            currentStock = \"three\"\n",
    "            stock.append(\"three\")\n",
    "        elif currentStock == \"two\":\n",
    "            change = np.random.choice(transitionName1[1],replace=True,p=transitionMatrix1[1])\n",
    "            if change == \"21\":\n",
    "                prob = prob * 0.5\n",
    "                currentStock = \"one\"\n",
    "                stock.append(\"one\")\n",
    "            elif change == \"22\":\n",
    "                prob = prob * 0.5\n",
    "                currentStock = \"two\"\n",
    "                stock.append(\"two\")\n",
    "            else:\n",
    "                prob = prob * 0\n",
    "                currentStock = \"three\"\n",
    "                stock.append(\"three\")\n",
    "        elif currentStock == \"three\":\n",
    "            change = np.random.choice(transitionName1[2],replace=True,p=transitionMatrix1[2])\n",
    "            if change == \"31\":\n",
    "                prob = prob * (1/9)\n",
    "                currentStock = \"one\"\n",
    "                stock.append(\"one\")\n",
    "            elif change == \"32\":\n",
    "                prob = prob * (4/9)\n",
    "                currentStock = \"two\"\n",
    "                stock.append(\"two\")\n",
    "            else:\n",
    "                prob = prob * (4/9)\n",
    "                currentStock = \"three\"\n",
    "                stock.append(\"three\")\n",
    "        i += 1  \n",
    "    print(\"Possible states: \" + str(stock))\n",
    "    print(\"End state after \"+ str(weeks) + \" weeks: \" + currentStock)\n",
    "    print(\"Probability of the possible sequence of states: \" + str(prob))"
   ]
  },
  {
   "cell_type": "code",
   "execution_count": 4,
   "metadata": {},
   "outputs": [
    {
     "name": "stdout",
     "output_type": "stream",
     "text": [
      "Start state: three\n",
      "Possible states: ['three', 'three', 'one', 'three', 'three', 'three', 'two', 'two', 'two', 'two', 'one']\n",
      "End state after 10 weeks: one\n",
      "Probability of the possible sequence of states: 0.0002709614049348845\n"
     ]
    }
   ],
   "source": [
    "stock_changes(10)"
   ]
  }
 ],
 "metadata": {
  "kernelspec": {
   "display_name": "Python 3",
   "language": "python",
   "name": "python3"
  },
  "language_info": {
   "codemirror_mode": {
    "name": "ipython",
    "version": 3
   },
   "file_extension": ".py",
   "mimetype": "text/x-python",
   "name": "python",
   "nbconvert_exporter": "python",
   "pygments_lexer": "ipython3",
   "version": "3.8.2"
  }
 },
 "nbformat": 4,
 "nbformat_minor": 4
}
